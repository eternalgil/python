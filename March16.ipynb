##print('Hello World') 

#number = int(input('enter a number here'))

#if number % 2 == 1:
#print('this is an odd number')
#else:``
#print('this is an even number')

number = input("enter a number")
str3 = int(number)
if str3 % 2 == 0:
print ('even')
else: 
print ('this is odd')