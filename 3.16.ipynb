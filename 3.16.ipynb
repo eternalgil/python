{
 "cells": [
  {
   "cell_type": "code",
   "execution_count": 7,
   "metadata": {},
   "outputs": [
    {
     "ename": "ValueError",
     "evalue": "empty separator",
     "output_type": "error",
     "traceback": [
      "\u001b[0;31m---------------------------------------------------------------------------\u001b[0m",
      "\u001b[0;31mValueError\u001b[0m                                Traceback (most recent call last)",
      "\u001b[1;32m/Users/hectorgil/Documents/python/3.16.ipynb Cell 1'\u001b[0m in \u001b[0;36m<cell line: 3>\u001b[0;34m()\u001b[0m\n\u001b[1;32m      <a href='vscode-notebook-cell:/Users/hectorgil/Documents/python/3.16.ipynb#ch0000002?line=0'>1</a>\u001b[0m mystr \u001b[39m=\u001b[39m \u001b[39minput\u001b[39m(\u001b[39m'\u001b[39m\u001b[39menter several numbers seperated by ya space to calculate their average\u001b[39m\u001b[39m'\u001b[39m)\n\u001b[0;32m----> <a href='vscode-notebook-cell:/Users/hectorgil/Documents/python/3.16.ipynb#ch0000002?line=2'>3</a>\u001b[0m nubs_list \u001b[39m=\u001b[39m mystr\u001b[39m.\u001b[39;49msplit(\u001b[39m'\u001b[39;49m\u001b[39m'\u001b[39;49m)\n\u001b[1;32m      <a href='vscode-notebook-cell:/Users/hectorgil/Documents/python/3.16.ipynb#ch0000002?line=4'>5</a>\u001b[0m \u001b[39m# mylist = mystr.split \u001b[39;00m\n\u001b[1;32m      <a href='vscode-notebook-cell:/Users/hectorgil/Documents/python/3.16.ipynb#ch0000002?line=5'>6</a>\u001b[0m \u001b[39mprint\u001b[39m(\u001b[39m'\u001b[39m\u001b[39mthis is our list: \u001b[39m\u001b[39m'\u001b[39m, nums_list)\n",
      "\u001b[0;31mValueError\u001b[0m: empty separator"
     ]
    }
   ],
   "source": [
    "mystr = input('enter several numbers seperated by ya space to calculate their average')\n",
    "\n",
    "nubs_list = mystr.split('')\n",
    "\n",
    "# mylist = mystr.split \n",
    "print('this is our list: ', nums_list)\n",
    "#solution 1\n",
    "summ = 0\n",
    "\n",
    "for num in nums_list:\n",
    "  summ += int(num) \n",
    "  avg = summ/len(num_list)\n",
    "  print('this is the average', avg)\n",
    "  \n",
    "#solution 2\n",
    "  for num in nums_list:\n",
    "    nums_list[nums_list.index(num)] = int(num)\n",
    "\n",
    "    avg = sum(nums_list)/len(nums_list)\n",
    "    print('This is our list converted to int:', nums_list)\n",
    "    print('the average is', avg)"
   ]
  },
  {
   "cell_type": "code",
   "execution_count": null,
   "metadata": {},
   "outputs": [],
   "source": [
    "list1 =[1,2,3,4,5,6,7]\n",
    "\n",
    "result =list1\n",
    "\n",
    "list1.pop()\n",
    "  print(result)\n",
    "  result.pop()\n",
    "  print(list1)\n"
   ]
  },
  {
   "cell_type": "code",
   "execution_count": null,
   "metadata": {},
   "outputs": [
    {
     "data": {
      "text/plain": [
       "4"
      ]
     },
     "execution_count": 1,
     "metadata": {},
     "output_type": "execute_result"
    }
   ],
   "source": [
    "squares = [1,2,3,4,5,6]\n",
    "squares[3]"
   ]
  },
  {
   "cell_type": "code",
   "execution_count": null,
   "metadata": {},
   "outputs": [
    {
     "name": "stderr",
     "output_type": "stream",
     "text": [
      "<>:1: SyntaxWarning: list indices must be integers or slices, not tuple; perhaps you missed a comma?\n",
      "<>:1: SyntaxWarning: list indices must be integers or slices, not tuple; perhaps you missed a comma?\n",
      "/var/folders/h6/t1zhr80136v94dmsjf3f1c2m0000gn/T/ipykernel_9491/2258142422.py:1: SyntaxWarning: list indices must be integers or slices, not tuple; perhaps you missed a comma?\n",
      "  list2d = [[44, 55,66],[101,201,301] [10,20,30]]\n",
      "/var/folders/h6/t1zhr80136v94dmsjf3f1c2m0000gn/T/ipykernel_9491/2258142422.py:1: SyntaxWarning: list indices must be integers or slices, not tuple; perhaps you missed a comma?\n",
      "  list2d = [[44, 55,66],[101,201,301] [10,20,30]]\n",
      "/var/folders/h6/t1zhr80136v94dmsjf3f1c2m0000gn/T/ipykernel_9491/2258142422.py:1: SyntaxWarning: list indices must be integers or slices, not tuple; perhaps you missed a comma?\n",
      "  list2d = [[44, 55,66],[101,201,301] [10,20,30]]\n"
     ]
    },
    {
     "ename": "TypeError",
     "evalue": "list indices must be integers or slices, not tuple",
     "output_type": "error",
     "traceback": [
      "\u001b[0;31m---------------------------------------------------------------------------\u001b[0m",
      "\u001b[0;31mTypeError\u001b[0m                                 Traceback (most recent call last)",
      "\u001b[1;32m/Users/hectorgil/Documents/python/3.16.ipynb Cell 4'\u001b[0m in \u001b[0;36m<cell line: 1>\u001b[0;34m()\u001b[0m\n\u001b[0;32m----> <a href='vscode-notebook-cell:/Users/hectorgil/Documents/python/3.16.ipynb#ch0000005?line=0'>1</a>\u001b[0m list2d \u001b[39m=\u001b[39m [[\u001b[39m44\u001b[39m, \u001b[39m55\u001b[39m,\u001b[39m66\u001b[39m],[\u001b[39m101\u001b[39;49m,\u001b[39m201\u001b[39;49m,\u001b[39m301\u001b[39;49m] [\u001b[39m10\u001b[39;49m,\u001b[39m20\u001b[39;49m,\u001b[39m30\u001b[39;49m]]\n\u001b[1;32m      <a href='vscode-notebook-cell:/Users/hectorgil/Documents/python/3.16.ipynb#ch0000005?line=1'>2</a>\u001b[0m \u001b[39mprint\u001b[39m(list2d[\u001b[39m2\u001b[39m])\n\u001b[1;32m      <a href='vscode-notebook-cell:/Users/hectorgil/Documents/python/3.16.ipynb#ch0000005?line=2'>3</a>\u001b[0m \u001b[39mprint\u001b[39m(list2d[\u001b[39m2\u001b[39m][\u001b[39m2\u001b[39m])\n",
      "\u001b[0;31mTypeError\u001b[0m: list indices must be integers or slices, not tuple"
     ]
    }
   ],
   "source": [
    "list2d = [[44, 55,66],[101,201,301], [10,20,30]]\n",
    "print(list2d[2])\n",
    "print(list2d[2][2])\n",
    "print([78,89,109][2]) "
   ]
  },
  {
   "cell_type": "code",
   "execution_count": 15,
   "metadata": {},
   "outputs": [
    {
     "name": "stdout",
     "output_type": "stream",
     "text": [
      " 1 2 3 \n",
      " 4 5 6 \n",
      " 7 8 9 \n",
      " 1 2 3 \n",
      " 4 5 6 \n",
      " 7 8 9 \n"
     ]
    }
   ],
   "source": [
    "grid = [[1,2,3],[4,5,6],[7,8,9]]\n",
    "#print(grid[1,2,3])\n",
    "#print(grid[4,5,6])\n",
    "#print(grid[7,8,9])\n",
    "\n",
    "for row in grid:\n",
    "  out = ' '\n",
    "  for number in row:\n",
    "    out += str(number)+' '\n",
    "  print(out)\n",
    "\n",
    "  #print(grid)\n",
    "  #if innerlist % 2 == 0:\n",
    "   # else:\n",
    "    #  print(grid)\n",
    "\n",
    "i = 0\n",
    "\n",
    "while i < len(grid):\n",
    "  out = ' '\n",
    "  j = 0\n",
    "  while j < len(grid[i]):\n",
    "    out += str(grid[i][j])+' '\n",
    "    j += 1\n",
    "  i += 1\n",
    "  print(out)\n"
   ]
  }
 ],
 "metadata": {
  "interpreter": {
   "hash": "aee8b7b246df8f9039afb4144a1f6fd8d2ca17a180786b69acc140d282b71a49"
  },
  "kernelspec": {
   "display_name": "Python 3.9.10 64-bit",
   "language": "python",
   "name": "python3"
  },
  "language_info": {
   "codemirror_mode": {
    "name": "ipython",
    "version": 3
   },
   "file_extension": ".py",
   "mimetype": "text/x-python",
   "name": "python",
   "nbconvert_exporter": "python",
   "pygments_lexer": "ipython3",
   "version": "3.9.10"
  },
  "orig_nbformat": 4
 },
 "nbformat": 4,
 "nbformat_minor": 2
}
