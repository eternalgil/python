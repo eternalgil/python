{
 "cells": [
  {
   "cell_type": "code",
   "execution_count": 2,
   "metadata": {},
   "outputs": [
    {
     "name": "stdout",
     "output_type": "stream",
     "text": [
      "[1, 2, 3]\n",
      "[4, 5, 6]\n",
      "[7, 8, 9]\n"
     ]
    }
   ],
   "source": [
    "grid = [1,2,3], [4,5,6],[7,8,9]\n",
    "\n",
    "for column in grid:\n",
    "  out = ''\n",
    "  for number in column:\n",
    "    out +=str(number)+' '\n",
    "  print(column)"
   ]
  },
  {
   "cell_type": "code",
   "execution_count": 3,
   "metadata": {},
   "outputs": [
    {
     "name": "stdout",
     "output_type": "stream",
     "text": [
      "[1, 2, 3]\n",
      "[4, 5, 6]\n",
      "[7, 8, 9]\n"
     ]
    }
   ],
   "source": [
    "grid = [1,2,3], [4,5,6],[7,8,9]\n",
    "\n",
    "for column in grid:\n",
    "  out = ''\n",
    "  for number in column:\n",
    "    out +=str(number)+' '\n",
    "  print(out)"
   ]
  },
  {
   "cell_type": "code",
   "execution_count": 4,
   "metadata": {},
   "outputs": [
    {
     "name": "stdout",
     "output_type": "stream",
     "text": [
      "1 2 3 \n",
      "4 5 6 \n",
      "7 8 9 \n"
     ]
    }
   ],
   "source": [
    "#This is homework I think this is the column\n",
    "\n",
    "grid = [1,2,3], [4,5,6],[7,8,9]\n",
    "\n",
    "for column in grid:\n",
    "  out = ''\n",
    "  for number in column:\n",
    "    out +=str(number)+' '\n",
    "  print(out)"
   ]
  },
  {
   "cell_type": "code",
   "execution_count": 13,
   "metadata": {},
   "outputs": [],
   "source": [
    "def volumebox(length, width, height):\n",
    "  volume = length*width*height\n",
    "  return volume\n",
    "  \n",
    "  print(volumebox(3,4,5))"
   ]
  }
 ],
 "metadata": {
  "interpreter": {
   "hash": "31f2aee4e71d21fbe5cf8b01ff0e069b9275f58929596ceb00d14d90e3e16cd6"
  },
  "kernelspec": {
   "display_name": "Python 3.8.9 64-bit",
   "language": "python",
   "name": "python3"
  },
  "language_info": {
   "codemirror_mode": {
    "name": "ipython",
    "version": 3
   },
   "file_extension": ".py",
   "mimetype": "text/x-python",
   "name": "python",
   "nbconvert_exporter": "python",
   "pygments_lexer": "ipython3",
   "version": "3.8.9"
  },
  "orig_nbformat": 4
 },
 "nbformat": 4,
 "nbformat_minor": 2
}
