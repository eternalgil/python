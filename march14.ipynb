{
 "cells": [
  {
   "cell_type": "code",
   "execution_count": null,
   "metadata": {},
   "outputs": [],
   "source": [
    "#num = int(input(`please enter a number`))\n",
    "\n",
    "#x = num//3\n",
    "\n",
    "# If num % 3 == 1;\n",
    "   # print(str(x)+`*3 + 1`)\n",
    "# elif num # 3 == 2;\n",
    "   # print(str(x)+`*3 + 2`)`\n",
    "# else \n",
    "   # print(str(x)`*3`)\n",
    "\n",
    "   #print(str(x)+`*3 +`, num%3)"
   ]
  },
  {
   "cell_type": "code",
   "execution_count": null,
   "metadata": {},
   "outputs": [],
   "source": [
    "#vowels = `aeiou`\n",
    "\n",
    "#for letter in word;\n",
    "\n",
    "    #if letter in vowels;\n",
    "\n",
    "    #print(letter)\n",
    "\n",
    "    #print(word)"
   ]
  },
  {
   "cell_type": "code",
   "execution_count": null,
   "metadata": {},
   "outputs": [],
   "source": [
    "#nums = ('57826784')\n",
    "\n",
    "#i = 0\n",
    "\n",
    "#small = int([0])\n",
    "\n",
    "#while i< len(num):\n",
    "    #if int(num(1)) < small:\n",
    "    #small = int(num[i])\n",
    "    #i += i\n",
    "\n",
    "#print(small)\n",
    "\n",
    "#for num in nums:\n",
    "   # if int(num) < small:\n",
    "   #   small = int(num)"
   ]
  },
  {
   "cell_type": "code",
   "execution_count": null,
   "metadata": {},
   "outputs": [],
   "source": [
    "#mylist = ['hello', 6, 7, 8.0, true, 'bye']\n",
    "#strlist = list('hello')\n",
    "#print(strlist)\n",
    "#print(mylist[0])\n",
    "#print(mylist[0:3])\n",
    "#mylist[2]) = 550\n",
    "#print(mylist)\n",
    "#for value in mylist:\n",
    "  #print(type(value))\n"
   ]
  },
  {
   "cell_type": "code",
   "execution_count": null,
   "metadata": {},
   "outputs": [
    {
     "name": "stdout",
     "output_type": "stream",
     "text": [
      "'hello' + 9 + 7.87 + true\n"
     ]
    }
   ],
   "source": [
    "mylist =(\"'hello' + 9 + 7.87 + true\")\n",
    "strlist = list()\n",
    "print(mylist)\n",
    "function()\n",
    "\n"
   ]
  },
  {
   "cell_type": "code",
   "execution_count": 2,
   "metadata": {},
   "outputs": [],
   "source": [
    "concatlist = ['h', 9, 7.87, True, 'l', 'o']\n",
    "\n",
    "#result = ''\n",
    "\n",
    "for obj in concatlist:\n",
    "  if type(obj) != str:\n",
    "    continue\n",
    "  result += obj\n",
    "  # result = result + ogj\n",
    "\n",
    "  print(result)"
   ]
  }
 ],
 "metadata": {
  "interpreter": {
   "hash": "aee8b7b246df8f9039afb4144a1f6fd8d2ca17a180786b69acc140d282b71a49"
  },
  "kernelspec": {
   "display_name": "Python 3.9.10 64-bit",
   "language": "python",
   "name": "python3"
  },
  "language_info": {
   "codemirror_mode": {
    "name": "ipython",
    "version": 3
   },
   "file_extension": ".py",
   "mimetype": "text/x-python",
   "name": "python",
   "nbconvert_exporter": "python",
   "pygments_lexer": "ipython3",
   "version": "3.9.10"
  },
  "orig_nbformat": 4
 },
 "nbformat": 4,
 "nbformat_minor": 2
}
