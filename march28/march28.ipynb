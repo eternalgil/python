{
 "cells": [
  {
   "cell_type": "code",
   "execution_count": null,
   "metadata": {},
   "outputs": [],
   "source": [
    "dict1 = {'cat': 'type of animal'. 'cat': 'type of animal'. 'cat': 'type of animal'. 'cat': 'type of animal'. }\n",
    "\n",
    "\n",
    "for word, definition in dict1.items():\n",
    "  print(f'{word} - {definition}')\n",
    "\n",
    "for key in dict1:\n",
    "  print(key,'-',dict1[key])\n",
    "\n"
   ]
  },
  {
   "cell_type": "code",
   "execution_count": null,
   "metadata": {},
   "outputs": [],
   "source": [
    "dict1 = { 'cat': 'type of animal'. 'cat': 'type of animal'. 'cat': 'type of animal'. }\n",
    "dict2 = { 'dog': 'type of animal',  'dog': 'type of animal',  'dog': 'type of animal',  'dog': 'type of animal', }"
   ]
  }
 ],
 "metadata": {
  "language_info": {
   "name": "python"
  },
  "orig_nbformat": 4
 },
 "nbformat": 4,
 "nbformat_minor": 2
}
