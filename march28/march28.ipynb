{
 "cells": [
  {
   "cell_type": "code",
   "execution_count": null,
   "metadata": {},
   "outputs": [],
   "source": [
    "dict1 = {'cat': 'type of animal'. 'cat': 'type of animal'. 'cat': 'type of animal'. 'cat': 'type of animal'. }\n",
    "\n",
    "\n",
    "for word, definition in dict1.items():\n",
    "  print(f'{word} - {definition}')\n",
    "\n",
    "for key in dict1:\n",
    "  print(key,'-',dict1[key])\n",
    "\n"
   ]
  },
  {
   "cell_type": "code",
   "execution_count": null,
   "metadata": {},
   "outputs": [],
   "source": [
    "dict1 = { 'cat': 'type of animal'. 'cat': 'type of animal'. 'cat': 'type of animal'. }\n",
    "dict2 = { 'dog': 'type of animal',  'dog': 'type of animal',  'dog': 'type of animal',  'dog': 'type of animal', }\n",
    "\n",
    "for key in dict1():\n",
    "  if key in dict2.keys():\n",
    "    result[key] = dict1[key]+dict2[key]\n",
    "    else:\n",
    "      result[key] = dict1[key]\n",
    "\n",
    "for key in dict2:\n",
    "  ifnot key in result.key()\n",
    "  result[key] = dict2[key]\n",
    "\n",
    "  print('dict1 + dict2')"
   ]
  }
 ],
 "metadata": {
  "language_info": {
   "name": "python"
  },
  "orig_nbformat": 4
 },
 "nbformat": 4,
 "nbformat_minor": 2
}
